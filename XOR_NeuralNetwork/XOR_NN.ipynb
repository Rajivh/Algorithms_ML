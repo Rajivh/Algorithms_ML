{
 "cells": [
  {
   "cell_type": "markdown",
   "metadata": {},
   "source": [
    "## Implementation of XOR using Neural Networks"
   ]
  },
  {
   "cell_type": "code",
   "execution_count": 6,
   "metadata": {},
   "outputs": [],
   "source": [
    "import numpy as np\n",
    "np.random.seed(1900220)"
   ]
  },
  {
   "cell_type": "code",
   "execution_count": 7,
   "metadata": {},
   "outputs": [],
   "source": [
    "#defining the functions\n",
    "def sigmoid_fn(m):\n",
    "    return 1 / (1+np.exp(-m))\n",
    "\n",
    "def sigmoid_derivative(n):\n",
    "    return n * (1 - n)\n",
    "\n",
    "def cost_function(target, estimate):\n",
    "    return (target - estimate)"
   ]
  },
  {
   "cell_type": "code",
   "execution_count": 8,
   "metadata": {},
   "outputs": [],
   "source": [
    "#initializing parameters\n",
    "input_data = np.array([[0,0], [0,1], [1,0], [1,1]])\n",
    "output_data = np.array([[0,1,1,0]]).T\n",
    "\n",
    "X = input_data\n",
    "Y = output_data\n",
    "\n",
    "epochs = 10000\n",
    "learning_rate = 0.1\n",
    "hidden_units = 3\n",
    "\n",
    "_, input_dim = input_data.shape\n",
    "_, output_dim = output_data.shape\n",
    "\n",
    "#Weight matrix\n",
    "W1 = np.random.random((input_dim, hidden_units))\n",
    "W2 = np.random.random((hidden_units, output_dim))"
   ]
  },
  {
   "cell_type": "code",
   "execution_count": 11,
   "metadata": {},
   "outputs": [
    {
     "name": "stdout",
     "output_type": "stream",
     "text": [
      "[[ 0.11711926]\n",
      " [ 0.92212049]\n",
      " [ 0.92210456]\n",
      " [ 0.04754556]]\n"
     ]
    }
   ],
   "source": [
    "\n",
    "for epoch in range(epochs):\n",
    "    layer0 = X\n",
    "    #Forward pas\n",
    "    layer1 = sigmoid_fn(np.dot(layer0, W1))\n",
    "    layer2 = sigmoid_fn(np.dot(layer1, W2))\n",
    "    \n",
    "    \n",
    "    layer2_error = cost_function(Y, layer2)\n",
    "    #print(layer2_error)\n",
    "    #Back pass\n",
    "    layer2_delta = layer2_error * sigmoid_derivative(layer2)\n",
    "    layer1_delta = np.multiply(np.dot(layer2_delta, W2.T), sigmoid_derivative(layer1))\n",
    "    \n",
    "    W2 += learning_rate * np.dot(layer1.T,layer2_delta)\n",
    "    W1 += learning_rate * np.dot(layer0.T, layer1_delta)\n",
    "    \n",
    "print(layer2)"
   ]
  },
  {
   "cell_type": "code",
   "execution_count": 4,
   "metadata": {},
   "outputs": [
    {
     "data": {
      "text/plain": [
       "array([[ 0.62647301,  0.91834567,  0.26287853],\n",
       "       [ 0.99181846,  0.13996919,  0.68295715]])"
      ]
     },
     "execution_count": 4,
     "metadata": {},
     "output_type": "execute_result"
    }
   ],
   "source": [
    "W1"
   ]
  },
  {
   "cell_type": "code",
   "execution_count": 5,
   "metadata": {},
   "outputs": [
    {
     "data": {
      "text/plain": [
       "array([[ 0.46733072],\n",
       "       [ 0.10974836],\n",
       "       [ 0.33660039]])"
      ]
     },
     "execution_count": 5,
     "metadata": {},
     "output_type": "execute_result"
    }
   ],
   "source": [
    "W2"
   ]
  },
  {
   "cell_type": "code",
   "execution_count": null,
   "metadata": {},
   "outputs": [],
   "source": []
  }
 ],
 "metadata": {
  "kernelspec": {
   "display_name": "Python 3",
   "language": "python",
   "name": "python3"
  },
  "language_info": {
   "codemirror_mode": {
    "name": "ipython",
    "version": 3
   },
   "file_extension": ".py",
   "mimetype": "text/x-python",
   "name": "python",
   "nbconvert_exporter": "python",
   "pygments_lexer": "ipython3",
   "version": "3.7.1"
  }
 },
 "nbformat": 4,
 "nbformat_minor": 2
}
