{
 "cells": [
  {
   "cell_type": "code",
   "execution_count": 9,
   "metadata": {},
   "outputs": [
    {
     "name": "stdout",
     "output_type": "stream",
     "text": [
      "[[ 0.08680988]\n",
      " [-0.44326123]\n",
      " [-0.15096482]]\n",
      "[[ 0.]\n",
      " [ 0.]\n",
      " [ 0.]\n",
      " [ 0.]\n",
      " [-1.]\n",
      " [-1.]\n",
      " [-1.]\n",
      " [ 0.]\n",
      " [ 0.]]\n",
      "[[-0.41319012]\n",
      " [ 0.05673877]\n",
      " [ 0.34903518]]\n",
      "[[ 1.]\n",
      " [ 0.]\n",
      " [ 0.]\n",
      " [ 0.]\n",
      " [ 0.]\n",
      " [ 0.]\n",
      " [ 0.]\n",
      " [ 0.]\n",
      " [-1.]]\n",
      "[[ 0.08680988]\n",
      " [-0.44326123]\n",
      " [-0.15096482]]\n",
      "[[ 0.]\n",
      " [ 0.]\n",
      " [ 0.]\n",
      " [ 0.]\n",
      " [-1.]\n",
      " [-1.]\n",
      " [-1.]\n",
      " [ 0.]\n",
      " [ 0.]]\n"
     ]
    }
   ],
   "source": [
    "import numpy as np\n",
    "\n",
    "\n",
    "def adjust_weights(training_with_bias, error, weights, alpha):\n",
    "    delta_w0 = alpha * error[4] * training_with_bias[4,0]\n",
    "    delta_w1 = alpha * error[4] * training_with_bias[4,1]\n",
    "    delta_w2 = alpha * error[4] * training_with_bias[4,2]\n",
    "    \n",
    "    \n",
    "    weights[0] += delta_w0\n",
    "    weights[1] += delta_w1\n",
    "    weights[2] += delta_w2\n",
    "    return(weights)\n",
    "\n",
    "\n",
    "def adjust_weights_1(training_with_bias, error, weights, alpha):\n",
    "    delta_w0 = alpha * error[4] * training_with_bias[4,0]\n",
    "    delta_w1 = alpha * error[4] * training_with_bias[4,1]\n",
    "    delta_w2 = alpha * error[4] * training_with_bias[4,2]\n",
    "    \n",
    "    \n",
    "    weights[0] -= delta_w0\n",
    "    weights[1] -= delta_w1\n",
    "    weights[2] -= delta_w2\n",
    "    return(weights)\n",
    "\n",
    "\n",
    "\n",
    "\n",
    "\n",
    "np.random.seed(100)\n",
    "\n",
    "weights = 2*np.random.random((3,1))-1\n",
    "print(weights)\n",
    "\n",
    "training_data = np.array([[-3,1],[-2,2],[-1,2],[-1,3],[-1,-1],[-2,-2],[-1,-3],[2,-2],[2,1]])\n",
    "training_with_bias = np.c_[np.ones(training_data.shape[0]), training_data]\n",
    "\n",
    "output_data = np.array([[1],[1],[1],[1],[0],[0],[0],[0],[0]])\n",
    "alpha=0.5\n",
    "activation = np.dot(training_with_bias, weights)\n",
    "\n",
    "output_estimate = activation\n",
    "\n",
    "output_estimate[output_estimate > 0] = 1\n",
    "output_estimate[output_estimate < 0] = 0\n",
    "\n",
    "error = output_data - output_estimate\n",
    "print(error)\n",
    "\n",
    "new_weights = adjust_weights(training_with_bias, error, weights, alpha)\n",
    "print(new_weights)\n",
    "\n",
    "activation1 = np.dot(training_with_bias, new_weights)\n",
    "\n",
    "output_estimate1 = activation1\n",
    "\n",
    "output_estimate1[output_estimate1 > 0] = 1\n",
    "output_estimate1[output_estimate1 < 0] = 0\n",
    "\n",
    "error1 = output_data - output_estimate1\n",
    "print(error1)\n",
    "\n",
    "\n",
    "new_weights_1 = adjust_weights_1(training_with_bias, error, weights, alpha)\n",
    "print(new_weights_1)\n",
    "\n",
    "activation2 = np.dot(training_with_bias, new_weights_1)\n",
    "\n",
    "output_estimate2 = activation2\n",
    "\n",
    "output_estimate2[output_estimate2 > 0] = 1\n",
    "output_estimate2[output_estimate2 < 0] = 0\n",
    "\n",
    "error2 = output_data - output_estimate2\n",
    "print(error2)\n",
    "\n"
   ]
  },
  {
   "cell_type": "code",
   "execution_count": 50,
   "metadata": {},
   "outputs": [
    {
     "data": {
      "text/plain": [
       "array([1., 1., 1., 1., 1., 1., 1., 1., 1.])"
      ]
     },
     "execution_count": 50,
     "metadata": {},
     "output_type": "execute_result"
    }
   ],
   "source": [
    "np.ones(training_data.shape[0])"
   ]
  },
  {
   "cell_type": "code",
   "execution_count": 81,
   "metadata": {},
   "outputs": [],
   "source": [
    "alpha=0.5"
   ]
  },
  {
   "cell_type": "code",
   "execution_count": 76,
   "metadata": {},
   "outputs": [
    {
     "name": "stdout",
     "output_type": "stream",
     "text": [
      "0.5\n"
     ]
    }
   ],
   "source": [
    "delta_w1 = 0.5*-1*training_with_bias[4,1]\n",
    "print(delta_w1)"
   ]
  },
  {
   "cell_type": "code",
   "execution_count": 85,
   "metadata": {},
   "outputs": [
    {
     "data": {
      "text/plain": [
       "array([0.5])"
      ]
     },
     "execution_count": 85,
     "metadata": {},
     "output_type": "execute_result"
    }
   ],
   "source": [
    "error[4]*alpha*training_with_bias[4,2]"
   ]
  },
  {
   "cell_type": "code",
   "execution_count": 101,
   "metadata": {},
   "outputs": [
    {
     "data": {
      "text/plain": [
       "array([0.08680988])"
      ]
     },
     "execution_count": 101,
     "metadata": {},
     "output_type": "execute_result"
    }
   ],
   "source": [
    "weights[0]"
   ]
  },
  {
   "cell_type": "code",
   "execution_count": 102,
   "metadata": {},
   "outputs": [
    {
     "data": {
      "text/plain": [
       "numpy.ndarray"
      ]
     },
     "execution_count": 102,
     "metadata": {},
     "output_type": "execute_result"
    }
   ],
   "source": [
    "type(weights)"
   ]
  },
  {
   "cell_type": "code",
   "execution_count": 103,
   "metadata": {},
   "outputs": [],
   "source": [
    "weights[0] = 3"
   ]
  },
  {
   "cell_type": "code",
   "execution_count": 104,
   "metadata": {},
   "outputs": [
    {
     "name": "stdout",
     "output_type": "stream",
     "text": [
      "[[ 3.        ]\n",
      " [-0.44326123]\n",
      " [-0.15096482]]\n"
     ]
    }
   ],
   "source": [
    "print(weights)"
   ]
  },
  {
   "cell_type": "code",
   "execution_count": 105,
   "metadata": {},
   "outputs": [],
   "source": [
    "weights[0]+=1"
   ]
  },
  {
   "cell_type": "code",
   "execution_count": 106,
   "metadata": {},
   "outputs": [
    {
     "name": "stdout",
     "output_type": "stream",
     "text": [
      "[[ 4.        ]\n",
      " [-0.44326123]\n",
      " [-0.15096482]]\n"
     ]
    }
   ],
   "source": [
    "print(weights)"
   ]
  },
  {
   "cell_type": "code",
   "execution_count": 13,
   "metadata": {},
   "outputs": [
    {
     "data": {
      "text/plain": [
       "array([[-1.5,  2. ,  3. ]])"
      ]
     },
     "execution_count": 13,
     "metadata": {},
     "output_type": "execute_result"
    }
   ],
   "source": [
    "np.dot((alpha*error).T,training_with_bias)"
   ]
  },
  {
   "cell_type": "code",
   "execution_count": null,
   "metadata": {},
   "outputs": [],
   "source": []
  }
 ],
 "metadata": {
  "kernelspec": {
   "display_name": "Python 3",
   "language": "python",
   "name": "python3"
  },
  "language_info": {
   "codemirror_mode": {
    "name": "ipython",
    "version": 3
   },
   "file_extension": ".py",
   "mimetype": "text/x-python",
   "name": "python",
   "nbconvert_exporter": "python",
   "pygments_lexer": "ipython3",
   "version": "3.6.3"
  }
 },
 "nbformat": 4,
 "nbformat_minor": 2
}
