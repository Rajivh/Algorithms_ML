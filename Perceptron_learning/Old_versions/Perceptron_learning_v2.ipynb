{
 "cells": [
  {
   "cell_type": "code",
   "execution_count": null,
   "metadata": {},
   "outputs": [],
   "source": [
    "import numpy as np\n",
    "\n",
    "training_data = np.array([[-3,1],[-2,2],[-1,2],[-1,3],[-1,-1],[-2,-2],[-1,-3],[2,-2],[2,1]])\n",
    "training_with_bias = np.c_[np.ones(training_data.shape[0]), training_data]\n",
    "output_data = np.array([[1],[1],[1],[1],[0],[0],[0],[0],[0]])\n",
    "\n",
    "output_estimate = np.empty(shape=(output_data.shape))\n",
    "output_estimate1 = np.empty(shape=(output_data.shape))\n",
    "\n",
    "print(\"hello\")\n",
    "delta = np.empty(shape = (3,1))\n",
    "np.random.seed(100)\n",
    "weights = 2*np.random.random((3,1))-1\n",
    "print(weights)\n",
    "alpha = 0.5\n",
    "\n",
    "for i in range(2):\n",
    "    \n",
    "    for i in range(len(training_with_bias)):\n",
    "        activation = np.dot(training_with_bias[i],weights)\n",
    "        if activation > 0:\n",
    "            output_estimate[i] = 1    \n",
    "        else:\n",
    "            output_estimate[i] = 0\n",
    "        error = output_data[i] - output_estimate[i]\n",
    "        print(\"error\",error)\n",
    "        if (error != 0):\n",
    "            print(i)\n",
    "            delta[0,0] = (alpha * error * training_with_bias[i,0])\n",
    "            delta[1,0] = (alpha * error * training_with_bias[i,1])\n",
    "            delta[2,0] = (alpha * error * training_with_bias[i,2])\n",
    "            print(\"delta\",delta)\n",
    "            weights += delta\n",
    "            #print(weights)\n",
    "        \n",
    "\n",
    "    print(weights)\n",
    "\n",
    "    activation1 = np.dot(training_with_bias,weights)\n",
    "    #print(activation1)\n",
    "    output_estimate1 = activation1\n",
    "    output_estimate1[output_estimate1>0]=1\n",
    "    output_estimate1[output_estimate1<0]=0\n",
    "    print(output_estimate1)\n",
    "    print(\"error\",output_data - output_estimate1)\n"
   ]
  },
  {
   "cell_type": "code",
   "execution_count": null,
   "metadata": {},
   "outputs": [],
   "source": [
    "print(\"hi\")"
   ]
  },
  {
   "cell_type": "code",
   "execution_count": null,
   "metadata": {},
   "outputs": [],
   "source": []
  },
  {
   "cell_type": "code",
   "execution_count": null,
   "metadata": {},
   "outputs": [],
   "source": []
  }
 ],
 "metadata": {
  "kernelspec": {
   "display_name": "Python 3",
   "language": "python",
   "name": "python3"
  },
  "language_info": {
   "codemirror_mode": {
    "name": "ipython",
    "version": 3
   },
   "file_extension": ".py",
   "mimetype": "text/x-python",
   "name": "python",
   "nbconvert_exporter": "python",
   "pygments_lexer": "ipython3",
   "version": "3.6.3"
  }
 },
 "nbformat": 4,
 "nbformat_minor": 2
}
