{
 "cells": [
  {
   "cell_type": "code",
   "execution_count": 38,
   "metadata": {},
   "outputs": [
    {
     "name": "stdout",
     "output_type": "stream",
     "text": [
      "[[ 0.08680988]\n",
      " [-0.44326123]\n",
      " [-0.15096482]]\n",
      "4\n",
      "8\n",
      "[[-0.91319012]\n",
      " [-0.94326123]\n",
      " [-0.15096482]]\n",
      "[[ 1.76562875]\n",
      " [ 0.67140271]\n",
      " [-0.27185852]\n",
      " [-0.42282334]\n",
      " [ 0.18103593]\n",
      " [ 1.27526198]\n",
      " [ 0.48296557]\n",
      " [-2.49778294]\n",
      " [-2.95067739]]\n",
      "[[ 0.]\n",
      " [ 0.]\n",
      " [ 1.]\n",
      " [ 1.]\n",
      " [-1.]\n",
      " [-1.]\n",
      " [-1.]\n",
      " [ 0.]\n",
      " [ 0.]]\n",
      "2\n",
      "4\n",
      "[[-0.91319012]\n",
      " [-0.94326123]\n",
      " [ 1.34903518]]\n",
      "[[ 3.26562875]\n",
      " [ 3.67140271]\n",
      " [ 2.72814148]\n",
      " [ 4.07717666]\n",
      " [-1.31896407]\n",
      " [-1.72473802]\n",
      " [-4.01703443]\n",
      " [-5.49778294]\n",
      " [-1.45067739]]\n",
      "[[0.]\n",
      " [0.]\n",
      " [0.]\n",
      " [0.]\n",
      " [0.]\n",
      " [0.]\n",
      " [0.]\n",
      " [0.]\n",
      " [0.]]\n",
      "[[-0.91319012]\n",
      " [-0.94326123]\n",
      " [ 1.34903518]]\n",
      "[[ 3.26562875]\n",
      " [ 3.67140271]\n",
      " [ 2.72814148]\n",
      " [ 4.07717666]\n",
      " [-1.31896407]\n",
      " [-1.72473802]\n",
      " [-4.01703443]\n",
      " [-5.49778294]\n",
      " [-1.45067739]]\n",
      "[[0.]\n",
      " [0.]\n",
      " [0.]\n",
      " [0.]\n",
      " [0.]\n",
      " [0.]\n",
      " [0.]\n",
      " [0.]\n",
      " [0.]]\n",
      "[[-0.91319012]\n",
      " [-0.94326123]\n",
      " [ 1.34903518]]\n",
      "[[ 3.26562875]\n",
      " [ 3.67140271]\n",
      " [ 2.72814148]\n",
      " [ 4.07717666]\n",
      " [-1.31896407]\n",
      " [-1.72473802]\n",
      " [-4.01703443]\n",
      " [-5.49778294]\n",
      " [-1.45067739]]\n",
      "[[0.]\n",
      " [0.]\n",
      " [0.]\n",
      " [0.]\n",
      " [0.]\n",
      " [0.]\n",
      " [0.]\n",
      " [0.]\n",
      " [0.]]\n"
     ]
    }
   ],
   "source": [
    "import numpy as np\n",
    "\n",
    "training_data = np.array([[-3,1],[-2,2],[-1,2],[-1,3],[-1,-1],[-2,-2],[-1,-3],[2,-2],[2,1]])\n",
    "training_with_bias = np.c_[np.ones(training_data.shape[0]), training_data]\n",
    "output_data = np.array([[1],[1],[1],[1],[0],[0],[0],[0],[0]])\n",
    "\n",
    "output_estimate = np.empty(shape=(output_data.shape))\n",
    "output_estimate1 = np.empty(shape=(output_data.shape))\n",
    "\n",
    "\n",
    "delta = np.empty(shape = (3,1))\n",
    "np.random.seed(100)\n",
    "weights = 2*np.random.random((3,1))-1\n",
    "print(weights)\n",
    "alpha = 0.5\n",
    "\n",
    "for i in range(4):\n",
    "    \n",
    "    for i in range(len(training_with_bias)):\n",
    "        activation = np.dot(training_with_bias[i],weights)\n",
    "        if activation > 0:\n",
    "            output_estimate[i] = 1    \n",
    "        else:\n",
    "            output_estimate[i] = 0\n",
    "        error = output_data[i] - output_estimate[i]\n",
    "        if (error != 0):\n",
    "            print(i)\n",
    "            delta[0,0] = (alpha * error * training_with_bias[i,0])\n",
    "            delta[1,0] = (alpha * error * training_with_bias[i,1])\n",
    "            delta[2,0] = (alpha * error * training_with_bias[i,2])\n",
    "            weights += delta\n",
    "            #print(weights)\n",
    "        \n",
    "\n",
    "    print(weights)\n",
    "\n",
    "    activation1 = np.dot(training_with_bias,weights)\n",
    "    print(activation1)\n",
    "    \n",
    "    activation1[activation1 > 0] = 1\n",
    "    activation1[activation1 < 0] = 0\n",
    "    error_1 = output_data - activation1\n",
    "    print(error_1)\n"
   ]
  },
  {
   "cell_type": "code",
   "execution_count": 31,
   "metadata": {},
   "outputs": [
    {
     "name": "stdout",
     "output_type": "stream",
     "text": [
      "hi\n"
     ]
    }
   ],
   "source": [
    "print(\"hi\")"
   ]
  },
  {
   "cell_type": "code",
   "execution_count": 8,
   "metadata": {},
   "outputs": [
    {
     "data": {
      "text/plain": [
       "(3,)"
      ]
     },
     "execution_count": 8,
     "metadata": {},
     "output_type": "execute_result"
    }
   ],
   "source": [
    "training_with_bias[4,].shape"
   ]
  },
  {
   "cell_type": "code",
   "execution_count": 31,
   "metadata": {},
   "outputs": [
    {
     "data": {
      "text/plain": [
       "(9, 1)"
      ]
     },
     "execution_count": 31,
     "metadata": {},
     "output_type": "execute_result"
    }
   ],
   "source": [
    "output_estimate.shape"
   ]
  },
  {
   "cell_type": "code",
   "execution_count": null,
   "metadata": {},
   "outputs": [],
   "source": []
  }
 ],
 "metadata": {
  "kernelspec": {
   "display_name": "Python 3",
   "language": "python",
   "name": "python3"
  },
  "language_info": {
   "codemirror_mode": {
    "name": "ipython",
    "version": 3
   },
   "file_extension": ".py",
   "mimetype": "text/x-python",
   "name": "python",
   "nbconvert_exporter": "python",
   "pygments_lexer": "ipython3",
   "version": "3.6.3"
  }
 },
 "nbformat": 4,
 "nbformat_minor": 2
}
