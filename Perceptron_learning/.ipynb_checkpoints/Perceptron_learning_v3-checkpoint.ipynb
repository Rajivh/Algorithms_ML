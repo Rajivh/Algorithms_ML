{
 "cells": [
  {
   "cell_type": "code",
   "execution_count": 115,
   "metadata": {},
   "outputs": [
    {
     "name": "stdout",
     "output_type": "stream",
     "text": [
      "3\n",
      "4\n",
      "[[ 1.]\n",
      " [ 0.]\n",
      " [ 0.]\n",
      " [ 0.]\n",
      " [ 0.]\n",
      " [ 0.]\n",
      " [ 0.]\n",
      " [ 0.]\n",
      " [-1.]\n",
      " [ 0.]]\n",
      "5\n",
      "[[ 1.]\n",
      " [ 1.]\n",
      " [ 0.]\n",
      " [ 0.]\n",
      " [ 0.]\n",
      " [ 0.]\n",
      " [ 0.]\n",
      " [ 0.]\n",
      " [-1.]\n",
      " [-1.]]\n",
      "6\n",
      "[[ 1.]\n",
      " [ 0.]\n",
      " [ 0.]\n",
      " [ 0.]\n",
      " [ 0.]\n",
      " [ 0.]\n",
      " [ 0.]\n",
      " [ 0.]\n",
      " [-1.]\n",
      " [-1.]]\n"
     ]
    }
   ],
   "source": [
    "import numpy as np\n",
    "\n",
    "training_data = np.array([[-3,1],[-2,2],[-1,2],[-1,3],[-1,-1],[-2,-2],[-1,-3],[2,-2],[2,1],[0,1]])\n",
    "training_with_bias = np.c_[np.ones(training_data.shape[0]), training_data]\n",
    "output_data = np.array([[1],[1],[1],[1],[0],[0],[0],[0],[0],[0]])\n",
    "\n",
    "output_estimate = np.empty(shape=(output_data.shape))\n",
    "output_estimate1 = np.empty(shape=(output_data.shape))\n",
    "\n",
    "\n",
    "delta = np.empty(shape = (3,1))\n",
    "np.random.seed(100)\n",
    "#weights = np.array([[-0.75],[-1.2],[1.3]])\n",
    "weights = 2*np.random.random((3,1))-1\n",
    "\n",
    "alpha = 0.5\n",
    "\n",
    "def activation_fn(trainingbias,wt):\n",
    "    activation = np.dot(trainingbias, wt)\n",
    "    activation[activation > 0] = 1\n",
    "    activation[activation < 0] = 0\n",
    "    error = output_data - activation\n",
    "    return(error)\n",
    "\n",
    "error = activation_fn(training_with_bias, weights)\n",
    "\n",
    "\n",
    "error_index = np.where(error!=0)[0]\n",
    "print(len(error_index))\n",
    "if len(error_index):\n",
    "    for i in error_index:\n",
    "        print(i)\n",
    "        delta[0,0] = error[i]*alpha*training_with_bias[i,0]\n",
    "        delta[1,0] = error[i]*alpha*training_with_bias[i,1]\n",
    "        delta[2,0] = error[i]*alpha*training_with_bias[i,2]    \n",
    "        weights += delta\n",
    "        error1 = activation_fn(training_with_bias, weights)\n",
    "        print(error1)\n",
    "        #print(weights)\n",
    "\n"
   ]
  },
  {
   "cell_type": "code",
   "execution_count": 81,
   "metadata": {},
   "outputs": [],
   "source": [
    "if np.all(error!=0):\n",
    "    print(\"true\")"
   ]
  },
  {
   "cell_type": "code",
   "execution_count": 60,
   "metadata": {},
   "outputs": [
    {
     "data": {
      "text/plain": [
       "(array([2]), array([0]))"
      ]
     },
     "execution_count": 60,
     "metadata": {},
     "output_type": "execute_result"
    }
   ],
   "source": [
    "np.where(weights>0)"
   ]
  },
  {
   "cell_type": "code",
   "execution_count": null,
   "metadata": {},
   "outputs": [],
   "source": [
    "\n",
    "\n",
    "print(\"error1\",error)\n",
    "i = np.where(error==10)[0]\n",
    "print(\"i\",len(i))\n",
    "if i:\n",
    "    print(\"true\")\n",
    "    i = np.where(error!=0)[0]\n",
    "    print(\"index\",i)\n",
    "    delta = error[i]*alpha*training_with_bias[i,]\n",
    "\n",
    "    weights[0,] += delta.T[0]\n",
    "    weights[1,] += delta.T[1]\n",
    "    weights[2,] += delta.T[2]\n",
    "    print(weights)\n",
    "\n",
    "    error = activation_fn(training_with_bias, weights)\n",
    "    print(error)\n",
    "\n"
   ]
  }
 ],
 "metadata": {
  "kernelspec": {
   "display_name": "Python 3",
   "language": "python",
   "name": "python3"
  },
  "language_info": {
   "codemirror_mode": {
    "name": "ipython",
    "version": 3
   },
   "file_extension": ".py",
   "mimetype": "text/x-python",
   "name": "python",
   "nbconvert_exporter": "python",
   "pygments_lexer": "ipython3",
   "version": "3.6.3"
  }
 },
 "nbformat": 4,
 "nbformat_minor": 2
}
